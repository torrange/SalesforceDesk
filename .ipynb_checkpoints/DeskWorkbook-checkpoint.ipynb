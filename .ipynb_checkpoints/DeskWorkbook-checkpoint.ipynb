{
 "metadata": {
  "name": "",
  "signature": "sha256:2e79127ab7e06755c64bb3afd9aa8fa5b0a5a99917725000f82d3eaabaeab159"
 },
 "nbformat": 3,
 "nbformat_minor": 0,
 "worksheets": [
  {
   "cells": [
    {
     "cell_type": "code",
     "collapsed": false,
     "input": [
      "from requests import session \n",
      "from json import loads, dumps"
     ],
     "language": "python",
     "metadata": {},
     "outputs": [],
     "prompt_number": 12
    },
    {
     "cell_type": "code",
     "collapsed": false,
     "input": [
      "class DeskCRM(object):\n",
      "    def __init__(self, user, secret):\n",
      "        self.user, self.secret = user, secret\n",
      "        self.auth = (self.user, self.secret)\n",
      "        self.base_uri = \"https://bonline.desk.com/api/v2\"\n",
      "        self.s = session()\n",
      "        self.s.headers[\"Accept\"] = \"application/json\"\n",
      "        self.s.headers[\"Content-Type\"] =  \"application/json\"\n",
      "        self.s.auth = self.auth\n",
      "    \n",
      "    def cases_list(self, company_id=None, customer_id=None, filter_id=None):\n",
      "        case_url = \"%s/cases\" % self.base_uri\n",
      "        r = self.s.get(case_url)\n",
      "        response =  loads(r.content)\n",
      "        return response\n",
      "    \n",
      "    def customers_create(self, customer):\n",
      "        customer_create_url = \"%s/customers\" % self.base_uri\n",
      "        r = self.s.post(customer_create_url, data=dumps(customer))\n",
      "        response =  loads(r.content)\n",
      "        return response\n",
      "    \n",
      "    def case_create(self, case):  \n",
      "        case_create_url = \"%s/cases\" % self.base_uri\n",
      "        r = self.s.post(case_create_url, data=dumps(case))\n",
      "        response =  loads(r.content)\n",
      "        return response"
     ],
     "language": "python",
     "metadata": {},
     "outputs": [],
     "prompt_number": 13
    },
    {
     "cell_type": "code",
     "collapsed": false,
     "input": [
      "d = Cases(\"rakehurst@bonline.com\", \"bOnline123\")"
     ],
     "language": "python",
     "metadata": {},
     "outputs": [],
     "prompt_number": 17
    },
    {
     "cell_type": "code",
     "collapsed": false,
     "input": [
      "class Cases(DeskCRM):\n",
      "    def case_create(self, case):  \n",
      "            case_create_url = \"%s/cases\" % self.base_uri\n",
      "            r = self.s.post(case_create_url, data=dumps(case))\n",
      "            response =  loads(r.content)\n",
      "            return response\n",
      "    "
     ],
     "language": "python",
     "metadata": {},
     "outputs": [],
     "prompt_number": 16
    },
    {
     "cell_type": "code",
     "collapsed": false,
     "input": [],
     "language": "python",
     "metadata": {},
     "outputs": [],
     "prompt_number": 19
    },
    {
     "cell_type": "code",
     "collapsed": false,
     "input": [],
     "language": "python",
     "metadata": {},
     "outputs": []
    }
   ],
   "metadata": {}
  }
 ]
}