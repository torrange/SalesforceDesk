{
 "metadata": {
  "name": "",
  "signature": "sha256:834efdae5820a522ecc9b22ef31d348834e2833c13875048240d5ede6f50afd1"
 },
 "nbformat": 3,
 "nbformat_minor": 0,
 "worksheets": [
  {
   "cells": [
    {
     "cell_type": "code",
     "collapsed": false,
     "input": [
      "from json import loads, dumps"
     ],
     "language": "python",
     "metadata": {},
     "outputs": [],
     "prompt_number": 1
    },
    {
     "cell_type": "code",
     "collapsed": false,
     "input": [
      "case = {\"type\": \"phone\",\"subject\": \"Blah\",\"priority\": 9,\"status\": \"open\",\"labels\": [\"Crisis\",\"Drama\",\"Critical\"],\"created_at\": \"2012-05-01T21:38:48Z\",\"_links\": {\"customer\": {\"href\": \"/api/v2/customers/262669144\",\"class\": \"customer\"},},\"message\": {\"direction\": \"in\",\"body\": \"blah\",}}"
     ],
     "language": "python",
     "metadata": {},
     "outputs": [],
     "prompt_number": 2
    },
    {
     "cell_type": "code",
     "collapsed": false,
     "input": [
      "customer = {\"first_name\":\"Beau\",\"last_name\":\"Locks\", \"external_id\":\"10024665\"}"
     ],
     "language": "python",
     "metadata": {},
     "outputs": [],
     "prompt_number": 3
    },
    {
     "cell_type": "code",
     "collapsed": false,
     "input": [],
     "language": "python",
     "metadata": {},
     "outputs": []
    }
   ],
   "metadata": {}
  }
 ]
}